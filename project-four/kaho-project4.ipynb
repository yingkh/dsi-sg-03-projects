{
 "cells": [
  {
   "cell_type": "markdown",
   "metadata": {},
   "source": [
    "# Project 4: Web Scrapping Job Postings\n",
    "\n",
    "## Background of the project\n",
    "You're working as a data scientist for a contracting firm that's rapidly expanding. Now that they have their most valuable employee (you!), they need to leverage data to win more contracts. Your firm offers technology and scientific solutions and wants to be competitive in the hiring market. Your principal has two main objectives:\n",
    "\n",
    "1. Determine the industry factors that are most important in predicting the salary amounts for these data.\n",
    "2. Determine the factors that distinguish job categories and titles from each other. For example, can required skills accurately predict job title?\n",
    "\n",
    "## Introduction\n",
    "The hiring agency, which is currently expanding, wants to remain competitive in the job market so as to be able to win more contracts. This is only made possible by making use of current data and technological and scientific solutions. In accomplishing the goals of getting more contracts, we need to build models that can help determine the salary and the job categories and titles.\n",
    "\n",
    "## Materials and Methods\n",
    "\n",
    "### Dataset\n",
    "The dataset has to be obained from the jobs website - myfuturecareer.sg - which have information of salary range, seniority, job category along with text of the job description. As the job website is managed by the government, there exist sepecifications of the features that are required for the job post in the website. This includes requiring the publication of salary range and having the salary range to be limited to 1.5 to 2 times the minimum salary offered for the job.\n",
    "The code which is used to scrape the website and generate the final data set is in the appendix as program listing.\n",
    "\n",
    "### Models to predict salary\n",
    "A salary category is given to each median salary (determined by the average of minimum salary and maximum salary) in order to build a classification model. The feature to be used for prediction is job description. (The combination of responsibility and requirements) Two classification models are built for comparison, one using Random Forest and the other with Naive Bayes.\n",
    "\n",
    "In addition, to satisfy the requirement of having to predict the salary incorrectly with a lower salary instead of a higher salary, a new model will be built based on the two models built for salary category prediction. The target variable to be used will be salary categories based on the minimum salary while the feature to be used for prediction is job description.\n",
    "\n",
    "### Models to predict job category\n",
    "The models built will predict the seniority of the position. However, given the variance in the description of seniority in each job post, a seniority class (Junior, Middle & Senior) will be given only to seniority description that do not have a mixture of seniority (such as having all three seniority classes in a single job post). The feature to be used for prediction is job description. (The combination of responsibility and requirements) Two classification models are built for comparison, one using Random Forest and the other with Naive Bayes."
   ]
  },
  {
   "cell_type": "code",
   "execution_count": 3,
   "metadata": {},
   "outputs": [],
   "source": [
    "import pandas as pd\n",
    "import numpy as np\n",
    "import matplotlib.pyplot as plt\n",
    "import seaborn as sns\n",
    "\n",
    "from sklearn.pipeline import Pipeline\n",
    "from sklearn.model_selection import train_test_split, cross_val_score\n",
    "from sklearn.feature_extraction.text import CountVectorizer, TfidfTransformer\n",
    "from sklearn.tree import DecisionTreeClassifier\n",
    "from sklearn.ensemble import RandomForestClassifier\n",
    "from sklearn.naive_bayes import MultinomialNB\n",
    "from sklearn.metrics import confusion_matrix, classification_report\n",
    "\n",
    "from sklearn.externals.six import StringIO  \n",
    "from IPython.display import Image  \n",
    "from sklearn.tree import export_graphviz\n",
    "import pydotplus"
   ]
  },
  {
   "cell_type": "markdown",
   "metadata": {},
   "source": [
    "## Pre-modelling - Feature Engineering and Analysis"
   ]
  },
  {
   "cell_type": "code",
   "execution_count": 4,
   "metadata": {},
   "outputs": [],
   "source": [
    "# Load the scrapped data from the csv file.\n",
    "csv_jobs = './jobs_set.csv'\n",
    "df_jobs = pd.read_csv(csv_jobs)"
   ]
  },
  {
   "cell_type": "markdown",
   "metadata": {},
   "source": [
    "### Feature engineering of salary\n",
    "Based on salary, the salary category is assigned in blocks of \\$2000 from \\$2000 to \\$10000. Salary of less than \\$2000 are category 0 while salary of more than or equal to \\$10000 are category 5."
   ]
  },
  {
   "cell_type": "code",
   "execution_count": 5,
   "metadata": {},
   "outputs": [],
   "source": [
    "# Assign salary category for each salary amount\n",
    "def get_salary_category(salary):\n",
    "    if (salary < 2000):\n",
    "        return 0\n",
    "    elif (salary < 10000):\n",
    "        return int((salary - 2000)/2000) + 1\n",
    "    else:\n",
    "        return 5"
   ]
  },
  {
   "cell_type": "code",
   "execution_count": 6,
   "metadata": {},
   "outputs": [],
   "source": [
    "df_jobs['median_salary'] = (df_jobs['min_salary'] + df_jobs['max_salary'])/2\n",
    "df_jobs['salary_category'] = df_jobs['median_salary'].map(get_salary_category)\n",
    "df_jobs['min_salary_category'] = df_jobs['min_salary'].map(get_salary_category)"
   ]
  },
  {
   "cell_type": "code",
   "execution_count": 7,
   "metadata": {},
   "outputs": [],
   "source": [
    "df_jobs['description'] = df_jobs['responsibilities'].str.cat(df_jobs['requirements'], sep='\\n')"
   ]
  },
  {
   "cell_type": "code",
   "execution_count": 8,
   "metadata": {},
   "outputs": [
    {
     "data": {
      "text/html": [
       "<div>\n",
       "<style scoped>\n",
       "    .dataframe tbody tr th:only-of-type {\n",
       "        vertical-align: middle;\n",
       "    }\n",
       "\n",
       "    .dataframe tbody tr th {\n",
       "        vertical-align: top;\n",
       "    }\n",
       "\n",
       "    .dataframe thead th {\n",
       "        text-align: right;\n",
       "    }\n",
       "</style>\n",
       "<table border=\"1\" class=\"dataframe\">\n",
       "  <thead>\n",
       "    <tr style=\"text-align: right;\">\n",
       "      <th></th>\n",
       "      <th>company</th>\n",
       "      <th>job_categories</th>\n",
       "      <th>keyword</th>\n",
       "      <th>max_salary</th>\n",
       "      <th>min_salary</th>\n",
       "      <th>requirements</th>\n",
       "      <th>responsibilities</th>\n",
       "      <th>seniority</th>\n",
       "      <th>title</th>\n",
       "      <th>url</th>\n",
       "      <th>median_salary</th>\n",
       "      <th>salary_category</th>\n",
       "      <th>min_salary_category</th>\n",
       "      <th>description</th>\n",
       "    </tr>\n",
       "  </thead>\n",
       "  <tbody>\n",
       "    <tr>\n",
       "      <th>0</th>\n",
       "      <td>SINGAPORE AIRLINES LIMITED</td>\n",
       "      <td>Information Technology</td>\n",
       "      <td>AI Engineer</td>\n",
       "      <td>9000</td>\n",
       "      <td>4500</td>\n",
       "      <td>Possess a degree in Information Technology or...</td>\n",
       "      <td>Develop, integrate and maintain in-house AI a...</td>\n",
       "      <td>Professional, Senior Executive</td>\n",
       "      <td>Solution Engineer (Contact Centre AI&amp; Cognitiv...</td>\n",
       "      <td>https://www.mycareersfuture.sg/job/439752e1995...</td>\n",
       "      <td>6750.0</td>\n",
       "      <td>3</td>\n",
       "      <td>2</td>\n",
       "      <td>Develop, integrate and maintain in-house AI a...</td>\n",
       "    </tr>\n",
       "    <tr>\n",
       "      <th>1</th>\n",
       "      <td>ASUS GLOBAL PTE. LTD.</td>\n",
       "      <td>Sciences / Laboratory / R&amp;D</td>\n",
       "      <td>AI Engineer</td>\n",
       "      <td>5000</td>\n",
       "      <td>4000</td>\n",
       "      <td>• Master's Degree in Information Engineering...</td>\n",
       "      <td>• Use machine learning to solve computer visio...</td>\n",
       "      <td>Professional</td>\n",
       "      <td>AI &amp; Machine learning engineer</td>\n",
       "      <td>https://www.mycareersfuture.sg/job/6d29536e195...</td>\n",
       "      <td>4500.0</td>\n",
       "      <td>2</td>\n",
       "      <td>2</td>\n",
       "      <td>• Use machine learning to solve computer visio...</td>\n",
       "    </tr>\n",
       "    <tr>\n",
       "      <th>2</th>\n",
       "      <td>AMADEUS GDS SINGAPORE PTE. LTD.</td>\n",
       "      <td>Banking and Finance, Information Technology</td>\n",
       "      <td>Business Analyst</td>\n",
       "      <td>8000</td>\n",
       "      <td>5000</td>\n",
       "      <td>Diploma/Degree level IT qualification Minimum ...</td>\n",
       "      <td>The Senior Commercial Business Analyst for Tra...</td>\n",
       "      <td>Senior Executive</td>\n",
       "      <td>Senior Commerical Business Analyst</td>\n",
       "      <td>https://www.mycareersfuture.sg/job/0886f382baf...</td>\n",
       "      <td>6500.0</td>\n",
       "      <td>3</td>\n",
       "      <td>2</td>\n",
       "      <td>The Senior Commercial Business Analyst for Tra...</td>\n",
       "    </tr>\n",
       "    <tr>\n",
       "      <th>3</th>\n",
       "      <td>APPLE SOUTH ASIA PTE. LTD.</td>\n",
       "      <td>Others</td>\n",
       "      <td>Business Analyst</td>\n",
       "      <td>12000</td>\n",
       "      <td>6000</td>\n",
       "      <td>7 years experience Extensive experience in rep...</td>\n",
       "      <td>The Business Analyst is responsible for the Bu...</td>\n",
       "      <td>Executive</td>\n",
       "      <td>Decision Support Business Analyst</td>\n",
       "      <td>https://www.mycareersfuture.sg/job/acab0018bf4...</td>\n",
       "      <td>9000.0</td>\n",
       "      <td>4</td>\n",
       "      <td>3</td>\n",
       "      <td>The Business Analyst is responsible for the Bu...</td>\n",
       "    </tr>\n",
       "    <tr>\n",
       "      <th>4</th>\n",
       "      <td>APPLE SOUTH ASIA PTE. LTD.</td>\n",
       "      <td>Others</td>\n",
       "      <td>Business Analyst</td>\n",
       "      <td>10000</td>\n",
       "      <td>5000</td>\n",
       "      <td>5 years experience Extensive experience in rep...</td>\n",
       "      <td>The Business Analyst is responsible for the Bu...</td>\n",
       "      <td>Executive</td>\n",
       "      <td>Decision Support Business Analyst</td>\n",
       "      <td>https://www.mycareersfuture.sg/job/e007ced3547...</td>\n",
       "      <td>7500.0</td>\n",
       "      <td>3</td>\n",
       "      <td>2</td>\n",
       "      <td>The Business Analyst is responsible for the Bu...</td>\n",
       "    </tr>\n",
       "  </tbody>\n",
       "</table>\n",
       "</div>"
      ],
      "text/plain": [
       "                           company  \\\n",
       "0       SINGAPORE AIRLINES LIMITED   \n",
       "1            ASUS GLOBAL PTE. LTD.   \n",
       "2  AMADEUS GDS SINGAPORE PTE. LTD.   \n",
       "3       APPLE SOUTH ASIA PTE. LTD.   \n",
       "4       APPLE SOUTH ASIA PTE. LTD.   \n",
       "\n",
       "                                job_categories           keyword  max_salary  \\\n",
       "0                       Information Technology       AI Engineer        9000   \n",
       "1                  Sciences / Laboratory / R&D       AI Engineer        5000   \n",
       "2  Banking and Finance, Information Technology  Business Analyst        8000   \n",
       "3                                       Others  Business Analyst       12000   \n",
       "4                                       Others  Business Analyst       10000   \n",
       "\n",
       "   min_salary                                       requirements  \\\n",
       "0        4500   Possess a degree in Information Technology or...   \n",
       "1        4000    • Master's Degree in Information Engineering...   \n",
       "2        5000  Diploma/Degree level IT qualification Minimum ...   \n",
       "3        6000  7 years experience Extensive experience in rep...   \n",
       "4        5000  5 years experience Extensive experience in rep...   \n",
       "\n",
       "                                    responsibilities  \\\n",
       "0   Develop, integrate and maintain in-house AI a...   \n",
       "1  • Use machine learning to solve computer visio...   \n",
       "2  The Senior Commercial Business Analyst for Tra...   \n",
       "3  The Business Analyst is responsible for the Bu...   \n",
       "4  The Business Analyst is responsible for the Bu...   \n",
       "\n",
       "                        seniority  \\\n",
       "0  Professional, Senior Executive   \n",
       "1                    Professional   \n",
       "2                Senior Executive   \n",
       "3                       Executive   \n",
       "4                       Executive   \n",
       "\n",
       "                                               title  \\\n",
       "0  Solution Engineer (Contact Centre AI& Cognitiv...   \n",
       "1                     AI & Machine learning engineer   \n",
       "2                 Senior Commerical Business Analyst   \n",
       "3                  Decision Support Business Analyst   \n",
       "4                  Decision Support Business Analyst   \n",
       "\n",
       "                                                 url  median_salary  \\\n",
       "0  https://www.mycareersfuture.sg/job/439752e1995...         6750.0   \n",
       "1  https://www.mycareersfuture.sg/job/6d29536e195...         4500.0   \n",
       "2  https://www.mycareersfuture.sg/job/0886f382baf...         6500.0   \n",
       "3  https://www.mycareersfuture.sg/job/acab0018bf4...         9000.0   \n",
       "4  https://www.mycareersfuture.sg/job/e007ced3547...         7500.0   \n",
       "\n",
       "   salary_category  min_salary_category  \\\n",
       "0                3                    2   \n",
       "1                2                    2   \n",
       "2                3                    2   \n",
       "3                4                    3   \n",
       "4                3                    2   \n",
       "\n",
       "                                         description  \n",
       "0   Develop, integrate and maintain in-house AI a...  \n",
       "1  • Use machine learning to solve computer visio...  \n",
       "2  The Senior Commercial Business Analyst for Tra...  \n",
       "3  The Business Analyst is responsible for the Bu...  \n",
       "4  The Business Analyst is responsible for the Bu...  "
      ]
     },
     "execution_count": 8,
     "metadata": {},
     "output_type": "execute_result"
    }
   ],
   "source": [
    "df_jobs.head()"
   ]
  },
  {
   "cell_type": "markdown",
   "metadata": {},
   "source": [
    "### Initial Data Analysis of Seniority and Job Category\n",
    "\n",
    "Before carrying out any feature engineering involving seniority, I seek to understand the statistics of seniority and job category labels."
   ]
  },
  {
   "cell_type": "code",
   "execution_count": 9,
   "metadata": {},
   "outputs": [
    {
     "data": {
      "text/plain": [
       "Information Technology                                                                                                572\n",
       "Banking and Finance                                                                                                   115\n",
       "Sciences / Laboratory / R&D                                                                                           113\n",
       "Engineering                                                                                                            81\n",
       "Others                                                                                                                 38\n",
       "Banking and Finance, Information Technology                                                                            28\n",
       "Engineering, Information Technology                                                                                    24\n",
       "Engineering, Sciences / Laboratory / R&D                                                                               21\n",
       "Consulting                                                                                                             18\n",
       "Marketing / Public Relations                                                                                           12\n",
       "Accounting / Auditing / Taxation                                                                                       11\n",
       "Advertising / Media                                                                                                    10\n",
       "Banking and Finance, Engineering, Information Technology                                                               10\n",
       "Logistics / Supply Chain                                                                                                9\n",
       "Insurance                                                                                                               7\n",
       "Sales / Retail                                                                                                          6\n",
       "Information Technology, Insurance                                                                                       5\n",
       "Education and Training, Engineering, Sciences / Laboratory / R&D                                                        5\n",
       "Engineering, Information Technology, Telecommunications                                                                 5\n",
       "Education and Training                                                                                                  5\n",
       "Education and Training, Information Technology                                                                          4\n",
       "Manufacturing                                                                                                           4\n",
       "Healthcare / Pharmaceutical                                                                                             4\n",
       "Engineering, Manufacturing, Others                                                                                      4\n",
       "Engineering, Information Technology, Sciences / Laboratory / R&D                                                        4\n",
       "Sciences / Laboratory / R&D, Telecommunications                                                                         3\n",
       "Professional Services                                                                                                   3\n",
       "Information Technology, Sciences / Laboratory / R&D                                                                     3\n",
       "Real Estate / Property Management                                                                                       3\n",
       "Admin / Secretarial                                                                                                     3\n",
       "                                                                                                                     ... \n",
       "Risk Management, Information Technology, Sciences / Laboratory / R&D                                                    1\n",
       "Human Resources , General Management, Marketing / Public Relations , Others                                             1\n",
       "Logistics / Supply Chain, Others                                                                                        1\n",
       "Consulting , Engineering, Professional Services, Sciences / Laboratory / R&D, Telecommunications                        1\n",
       "Travel / Tourism                                                                                                        1\n",
       "Admin / Secretarial, General Management, Professional Services, Real Estate / Property Management, Sales / Retail       1\n",
       "Customer Service, Engineering, Information Technology, Sales / Retail , Telecommunications                              1\n",
       "Information Technology, Travel / Tourism                                                                                1\n",
       "Information Technology, Others                                                                                          1\n",
       "General Management                                                                                                      1\n",
       "Design                                                                                                                  1\n",
       "Engineering, Information Technology, Manufacturing                                                                      1\n",
       "Accounting / Auditing / Taxation, Information Technology                                                                1\n",
       "Information Technology, Insurance, Others                                                                               1\n",
       "F&B, Manufacturing                                                                                                      1\n",
       "Telecommunications                                                                                                      1\n",
       "Education and Training, Engineering                                                                                     1\n",
       "Risk Management, Information Technology                                                                                 1\n",
       "Healthcare / Pharmaceutical, Information Technology, Sciences / Laboratory / R&D                                        1\n",
       "Admin / Secretarial, Manufacturing, Others                                                                              1\n",
       "Banking and Finance, Engineering, Information Technology, Insurance                                                     1\n",
       "Consulting , Banking and Finance, Healthcare / Pharmaceutical, Information Technology, Logistics / Supply Chain         1\n",
       "Building and Construction                                                                                               1\n",
       "Design, Information Technology                                                                                          1\n",
       "Engineering, Professional Services, Sciences / Laboratory / R&D                                                         1\n",
       "Environment / Health  , Marketing / Public Relations                                                                    1\n",
       "Consulting , Engineering, Information Technology, Others, Telecommunications                                            1\n",
       "Advertising / Media , Engineering, Information Technology, Marketing / Public Relations                                 1\n",
       "Admin / Secretarial, Consulting                                                                                         1\n",
       "Environment / Health                                                                                                    1\n",
       "Name: job_categories, Length: 101, dtype: int64"
      ]
     },
     "execution_count": 9,
     "metadata": {},
     "output_type": "execute_result"
    }
   ],
   "source": [
    "df_jobs['job_categories'].value_counts()"
   ]
  },
  {
   "cell_type": "code",
   "execution_count": 10,
   "metadata": {},
   "outputs": [
    {
     "data": {
      "text/plain": [
       "Professional                                                                                                304\n",
       "Executive                                                                                                   276\n",
       "Senior Executive                                                                                            147\n",
       "Non-executive                                                                                                75\n",
       "Manager                                                                                                      70\n",
       "Middle Management                                                                                            59\n",
       "Junior Executive                                                                                             51\n",
       "Fresh/entry level                                                                                            34\n",
       "Professional, Executive                                                                                      26\n",
       "Executive, Senior Executive                                                                                  23\n",
       "Senior Management                                                                                            15\n",
       "Executive, Junior Executive                                                                                  12\n",
       "Fresh/entry level, Executive                                                                                 11\n",
       "Professional, Senior Executive                                                                               11\n",
       "Manager, Senior Executive                                                                                     9\n",
       "Middle Management, Manager                                                                                    6\n",
       "Junior Executive, Senior Executive                                                                            5\n",
       "Fresh/entry level, Non-executive                                                                              5\n",
       "Fresh/entry level, Junior Executive                                                                           5\n",
       "Manager, Professional, Senior Executive                                                                       4\n",
       "Senior Management, Middle Management, Professional                                                            4\n",
       "Fresh/entry level, Executive, Non-executive                                                                   4\n",
       "Professional, Executive, Senior Executive                                                                     4\n",
       "Middle Management, Professional                                                                               3\n",
       "Manager, Executive                                                                                            3\n",
       "Professional, Non-executive                                                                                   3\n",
       "Executive, Non-executive                                                                                      3\n",
       "Executive, Junior Executive, Senior Executive                                                                 3\n",
       "Middle Management, Senior Executive                                                                           2\n",
       "Senior Management, Middle Management, Manager, Professional                                                   2\n",
       "Senior Management, Middle Management, Manager, Executive, Non-executive                                       2\n",
       "Manager, Executive, Senior Executive                                                                          2\n",
       "Middle Management, Executive                                                                                  2\n",
       "Senior Management, Middle Management, Manager, Fresh/entry level, Professional, Executive, Non-executive      2\n",
       "Senior Management, Manager                                                                                    2\n",
       "Manager, Professional                                                                                         2\n",
       "Middle Management, Manager, Fresh/entry level, Professional, Executive, Non-executive                         1\n",
       "Fresh/entry level, Professional                                                                               1\n",
       "Senior Management, Middle Management, Professional, Executive                                                 1\n",
       "Executive, Non-executive, Junior Executive                                                                    1\n",
       "Fresh/entry level, Professional, Executive, Senior Executive                                                  1\n",
       "Manager, Fresh/entry level, Executive, Junior Executive                                                       1\n",
       "Senior Management, Middle Management                                                                          1\n",
       "Senior Management, Fresh/entry level                                                                          1\n",
       "Fresh/entry level, Junior Executive, Senior Executive                                                         1\n",
       "Middle Management, Executive, Senior Executive                                                                1\n",
       "Manager, Professional, Executive                                                                              1\n",
       "Professional, Junior Executive, Senior Executive                                                              1\n",
       "Manager, Fresh/entry level, Executive, Non-executive                                                          1\n",
       "Senior Management, Middle Management, Manager, Fresh/entry level, Executive, Non-executive                    1\n",
       "Manager, Professional, Executive, Senior Executive                                                            1\n",
       "Senior Management, Manager, Executive                                                                         1\n",
       "Middle Management, Manager, Fresh/entry level, Executive                                                      1\n",
       "Fresh/entry level, Professional, Executive, Non-executive                                                     1\n",
       "Fresh/entry level, Professional, Non-executive                                                                1\n",
       "Manager, Fresh/entry level, Professional, Executive                                                           1\n",
       "Professional, Executive, Non-executive, Junior Executive, Senior Executive                                    1\n",
       "Name: seniority, dtype: int64"
      ]
     },
     "execution_count": 10,
     "metadata": {},
     "output_type": "execute_result"
    }
   ],
   "source": [
    "# Understand seniority category \n",
    "df_jobs['seniority'].value_counts()"
   ]
  },
  {
   "cell_type": "markdown",
   "metadata": {},
   "source": [
    "From the seniority labels, a small amount of job descriptions have a mix of junior, middle and senior positions. As such the seniority of the position cannot be determined and are excluded from the modelling to predict the seniority of the position."
   ]
  },
  {
   "cell_type": "markdown",
   "metadata": {},
   "source": [
    "### Feature engineering of seniority"
   ]
  },
  {
   "cell_type": "code",
   "execution_count": 11,
   "metadata": {},
   "outputs": [],
   "source": [
    "list_junior = ['Junior Executive', 'Fresh/entry level', 'Executive, Junior Executive', \n",
    "               'Fresh/entry level, Executive', 'Fresh/entry level, Non-executive',\n",
    "               'Fresh/entry level, Junior Executive', 'Fresh/entry level, Professional',\n",
    "               'Executive, Non-executive, Junior Executive',\n",
    "               'Fresh/entry level, Executive, Non-executive',\n",
    "               'Fresh/entry level, Professional, Executive, Non-executive',\n",
    "               'Manager, Fresh/entry level, Executive, Junior Executive',\n",
    "              'Manager, Fresh/entry level, Executive, Non-executive', \n",
    "               'Fresh/entry level, Professional, Non-executive',\n",
    "              'Manager, Fresh/entry level, Professional, Executive']\n",
    "list_middle = ['Professional', 'Executive', 'Non-Executive', 'Manager', 'Middle Management', 'Professional, Executive',\n",
    "               'Middle Management, Professional', 'Manager, Executive', 'Professional, Non-executive',\n",
    "               'Executive, Non-executive', 'Middle Management, Executive', 'Senior Management, Manager',\n",
    "               'Manager, Professional', 'Manager, Professional, Executive']\n",
    "list_senior = ['Senior Executive', 'Executive, Senior Executive', 'Senior Management', \n",
    "               'Professional, Senior Executive', 'Manager, Professional, Senior Executive',\n",
    "               'Manager, Executive, Senior Executive', 'Manager, Professional, Executive, Senior Executive',\n",
    "              'Senior Management, Manager, Executive']\n",
    "def get_seniority_class(seniority):\n",
    "    seniority = seniority.strip()\n",
    "    return \"Junior\" if seniority in list_junior else \"Middle\" if seniority in list_middle else \"Senior\" if seniority in list_senior else \"\"\n",
    "\n",
    "df_jobs['seniority_class'] = df_jobs['seniority'].map(get_seniority_class)"
   ]
  },
  {
   "cell_type": "code",
   "execution_count": 12,
   "metadata": {},
   "outputs": [
    {
     "data": {
      "text/html": [
       "<div>\n",
       "<style scoped>\n",
       "    .dataframe tbody tr th:only-of-type {\n",
       "        vertical-align: middle;\n",
       "    }\n",
       "\n",
       "    .dataframe tbody tr th {\n",
       "        vertical-align: top;\n",
       "    }\n",
       "\n",
       "    .dataframe thead th {\n",
       "        text-align: right;\n",
       "    }\n",
       "</style>\n",
       "<table border=\"1\" class=\"dataframe\">\n",
       "  <thead>\n",
       "    <tr style=\"text-align: right;\">\n",
       "      <th></th>\n",
       "      <th>company</th>\n",
       "      <th>job_categories</th>\n",
       "      <th>keyword</th>\n",
       "      <th>max_salary</th>\n",
       "      <th>min_salary</th>\n",
       "      <th>requirements</th>\n",
       "      <th>responsibilities</th>\n",
       "      <th>seniority</th>\n",
       "      <th>title</th>\n",
       "      <th>url</th>\n",
       "      <th>median_salary</th>\n",
       "      <th>salary_category</th>\n",
       "      <th>min_salary_category</th>\n",
       "      <th>description</th>\n",
       "      <th>seniority_class</th>\n",
       "    </tr>\n",
       "  </thead>\n",
       "  <tbody>\n",
       "    <tr>\n",
       "      <th>146</th>\n",
       "      <td>TECHCOM SOLUTIONS PTE. LTD.</td>\n",
       "      <td>Banking and Finance, Information Technology</td>\n",
       "      <td>Business Analyst</td>\n",
       "      <td>8000</td>\n",
       "      <td>4500</td>\n",
       "      <td>8-12 years’ experience – Wealth management pr...</td>\n",
       "      <td>8-12 years’ experience – Wealth management pr...</td>\n",
       "      <td>Senior Management</td>\n",
       "      <td>Business Analyst</td>\n",
       "      <td>https://www.mycareersfuture.sg/job/22874339079...</td>\n",
       "      <td>6250.0</td>\n",
       "      <td>3</td>\n",
       "      <td>2</td>\n",
       "      <td>8-12 years’ experience – Wealth management pr...</td>\n",
       "      <td>Senior</td>\n",
       "    </tr>\n",
       "    <tr>\n",
       "      <th>148</th>\n",
       "      <td>TECHCOM SOLUTIONS ASIA PACIFIC PTE. LTD.</td>\n",
       "      <td>Banking and Finance</td>\n",
       "      <td>Business Analyst</td>\n",
       "      <td>8000</td>\n",
       "      <td>5000</td>\n",
       "      <td>8-12 years’ experience – Wealth management pr...</td>\n",
       "      <td>8-12 years’ experience – Wealth management pr...</td>\n",
       "      <td>Senior Management</td>\n",
       "      <td>Business Analyst</td>\n",
       "      <td>https://www.mycareersfuture.sg/job/8110aca47c3...</td>\n",
       "      <td>6500.0</td>\n",
       "      <td>3</td>\n",
       "      <td>2</td>\n",
       "      <td>8-12 years’ experience – Wealth management pr...</td>\n",
       "      <td>Senior</td>\n",
       "    </tr>\n",
       "    <tr>\n",
       "      <th>229</th>\n",
       "      <td>STARCOM MEDIA WORLDWIDE</td>\n",
       "      <td>Advertising / Media</td>\n",
       "      <td>Business Analyst</td>\n",
       "      <td>16500</td>\n",
       "      <td>10000</td>\n",
       "      <td>Minimum Bachelor’s Degree in Computer Science...</td>\n",
       "      <td>We seek creative individuals who combine stron...</td>\n",
       "      <td>Senior Management</td>\n",
       "      <td>Regional Business Intelligence (BI) Analyst</td>\n",
       "      <td>https://www.mycareersfuture.sg/job/56d44b52bd2...</td>\n",
       "      <td>13250.0</td>\n",
       "      <td>5</td>\n",
       "      <td>5</td>\n",
       "      <td>We seek creative individuals who combine stron...</td>\n",
       "      <td>Senior</td>\n",
       "    </tr>\n",
       "    <tr>\n",
       "      <th>230</th>\n",
       "      <td>ZENITHOPTIMEDIA</td>\n",
       "      <td>Advertising / Media</td>\n",
       "      <td>Business Analyst</td>\n",
       "      <td>16500</td>\n",
       "      <td>10000</td>\n",
       "      <td>Minimum Bachelor’s Degree in Computer Science...</td>\n",
       "      <td>We seek creative individuals who combine stron...</td>\n",
       "      <td>Senior Management</td>\n",
       "      <td>Regional Business Intelligence (BI) Analyst</td>\n",
       "      <td>https://www.mycareersfuture.sg/job/f651a0182ab...</td>\n",
       "      <td>13250.0</td>\n",
       "      <td>5</td>\n",
       "      <td>5</td>\n",
       "      <td>We seek creative individuals who combine stron...</td>\n",
       "      <td>Senior</td>\n",
       "    </tr>\n",
       "    <tr>\n",
       "      <th>355</th>\n",
       "      <td>CIMB BANK BERHAD</td>\n",
       "      <td>Banking and Finance</td>\n",
       "      <td>Business Intelligence</td>\n",
       "      <td>11000</td>\n",
       "      <td>10000</td>\n",
       "      <td>• Bachelor’s degree or equivalent experience, ...</td>\n",
       "      <td>The Role  serve as primary custodian across th...</td>\n",
       "      <td>Senior Management</td>\n",
       "      <td>Head, Data and Information Security</td>\n",
       "      <td>https://www.mycareersfuture.sg/job/4eab9054bf3...</td>\n",
       "      <td>10500.0</td>\n",
       "      <td>5</td>\n",
       "      <td>5</td>\n",
       "      <td>The Role  serve as primary custodian across th...</td>\n",
       "      <td>Senior</td>\n",
       "    </tr>\n",
       "  </tbody>\n",
       "</table>\n",
       "</div>"
      ],
      "text/plain": [
       "                                      company  \\\n",
       "146               TECHCOM SOLUTIONS PTE. LTD.   \n",
       "148  TECHCOM SOLUTIONS ASIA PACIFIC PTE. LTD.   \n",
       "229                   STARCOM MEDIA WORLDWIDE   \n",
       "230                           ZENITHOPTIMEDIA   \n",
       "355                          CIMB BANK BERHAD   \n",
       "\n",
       "                                  job_categories                keyword  \\\n",
       "146  Banking and Finance, Information Technology       Business Analyst   \n",
       "148                          Banking and Finance       Business Analyst   \n",
       "229                         Advertising / Media        Business Analyst   \n",
       "230                         Advertising / Media        Business Analyst   \n",
       "355                          Banking and Finance  Business Intelligence   \n",
       "\n",
       "     max_salary  min_salary  \\\n",
       "146        8000        4500   \n",
       "148        8000        5000   \n",
       "229       16500       10000   \n",
       "230       16500       10000   \n",
       "355       11000       10000   \n",
       "\n",
       "                                          requirements  \\\n",
       "146   8-12 years’ experience – Wealth management pr...   \n",
       "148   8-12 years’ experience – Wealth management pr...   \n",
       "229   Minimum Bachelor’s Degree in Computer Science...   \n",
       "230   Minimum Bachelor’s Degree in Computer Science...   \n",
       "355  • Bachelor’s degree or equivalent experience, ...   \n",
       "\n",
       "                                      responsibilities          seniority  \\\n",
       "146   8-12 years’ experience – Wealth management pr...  Senior Management   \n",
       "148   8-12 years’ experience – Wealth management pr...  Senior Management   \n",
       "229  We seek creative individuals who combine stron...  Senior Management   \n",
       "230  We seek creative individuals who combine stron...  Senior Management   \n",
       "355  The Role  serve as primary custodian across th...  Senior Management   \n",
       "\n",
       "                                           title  \\\n",
       "146                             Business Analyst   \n",
       "148                             Business Analyst   \n",
       "229  Regional Business Intelligence (BI) Analyst   \n",
       "230  Regional Business Intelligence (BI) Analyst   \n",
       "355          Head, Data and Information Security   \n",
       "\n",
       "                                                   url  median_salary  \\\n",
       "146  https://www.mycareersfuture.sg/job/22874339079...         6250.0   \n",
       "148  https://www.mycareersfuture.sg/job/8110aca47c3...         6500.0   \n",
       "229  https://www.mycareersfuture.sg/job/56d44b52bd2...        13250.0   \n",
       "230  https://www.mycareersfuture.sg/job/f651a0182ab...        13250.0   \n",
       "355  https://www.mycareersfuture.sg/job/4eab9054bf3...        10500.0   \n",
       "\n",
       "     salary_category  min_salary_category  \\\n",
       "146                3                    2   \n",
       "148                3                    2   \n",
       "229                5                    5   \n",
       "230                5                    5   \n",
       "355                5                    5   \n",
       "\n",
       "                                           description seniority_class  \n",
       "146   8-12 years’ experience – Wealth management pr...          Senior  \n",
       "148   8-12 years’ experience – Wealth management pr...          Senior  \n",
       "229  We seek creative individuals who combine stron...          Senior  \n",
       "230  We seek creative individuals who combine stron...          Senior  \n",
       "355  The Role  serve as primary custodian across th...          Senior  "
      ]
     },
     "execution_count": 12,
     "metadata": {},
     "output_type": "execute_result"
    }
   ],
   "source": [
    "df_jobs[df_jobs['seniority'] == 'Senior Management'].head()"
   ]
  },
  {
   "cell_type": "code",
   "execution_count": 13,
   "metadata": {},
   "outputs": [
    {
     "data": {
      "text/plain": [
       "Middle    754\n",
       "Senior    204\n",
       "Junior    129\n",
       "          125\n",
       "Name: seniority_class, dtype: int64"
      ]
     },
     "execution_count": 13,
     "metadata": {},
     "output_type": "execute_result"
    }
   ],
   "source": [
    "# Check the statistics of seniority classes.\n",
    "df_jobs['seniority_class'].value_counts()"
   ]
  },
  {
   "cell_type": "code",
   "execution_count": 14,
   "metadata": {},
   "outputs": [
    {
     "data": {
      "image/png": "[encoded data removed]",
      "text/plain": [
       "<matplotlib.figure.Figure at 0x10f304850>"
      ]
     },
     "metadata": {},
     "output_type": "display_data"
    }
   ],
   "source": [
    "# Understand the salary range in each salary category, especially at salary category 0 and category 5.\n",
    "plt.figure(figsize=(12, 10))\n",
    "sns.boxplot(x='salary_category', y='median_salary', data=df_jobs)\n",
    "plt.show()"
   ]
  },
  {
   "cell_type": "markdown",
   "metadata": {},
   "source": [
    "It can be seen that for salary category 5, the salary range is relatively high and outliers are existent. In addition, there are little quantative features that can be used to predict the salary using regression."
   ]
  },
  {
   "cell_type": "code",
   "execution_count": 15,
   "metadata": {},
   "outputs": [
    {
     "data": {
      "image/png": "[encoded data removed]",
      "text/plain": [
       "<matplotlib.figure.Figure at 0x1a15458b10>"
      ]
     },
     "metadata": {},
     "output_type": "display_data"
    }
   ],
   "source": [
    "# Visualize the salary range in each category.\n",
    "plt.figure(figsize=(12, 10))\n",
    "sns.boxplot(x='salary_category', y='median_salary', data=df_jobs[df_jobs['salary_category'] != 5])\n",
    "plt.show()"
   ]
  },
  {
   "cell_type": "code",
   "execution_count": 16,
   "metadata": {},
   "outputs": [
    {
     "data": {
      "text/plain": [
       "2    374\n",
       "3    361\n",
       "1    184\n",
       "4    169\n",
       "5    122\n",
       "0      2\n",
       "Name: salary_category, dtype: int64"
      ]
     },
     "execution_count": 16,
     "metadata": {},
     "output_type": "execute_result"
    }
   ],
   "source": [
    "# Check the statistics of the salary category.\n",
    "df_jobs['salary_category'].value_counts()"
   ]
  },
  {
   "cell_type": "markdown",
   "metadata": {},
   "source": [
    "The salary of the jobs in salary category of 1 to 4 (where the jobs provide median salary of between \\$2000 and \\$10000 per month) are distributed normally. There are too little samples from salary category 0 as compared to other salary categories."
   ]
  },
  {
   "cell_type": "markdown",
   "metadata": {},
   "source": [
    "## Factors that impact salary - Results"
   ]
  },
  {
   "cell_type": "code",
   "execution_count": 17,
   "metadata": {},
   "outputs": [],
   "source": [
    "# There are to few jobs with salary category of 0 and the median salary range for jobs in salary category of 5 is too\n",
    "# wide. Therefore we will exclude it from the modelling in this section.\n",
    "\n",
    "df_jobs_selected = df_jobs[(df_jobs['salary_category'] != 0) & (df_jobs['salary_category'] != 5)].copy()"
   ]
  },
  {
   "cell_type": "code",
   "execution_count": 18,
   "metadata": {},
   "outputs": [],
   "source": [
    "X1 = df_jobs_selected['description']\n",
    "y1 = df_jobs_selected['salary_category']"
   ]
  },
  {
   "cell_type": "code",
   "execution_count": 19,
   "metadata": {},
   "outputs": [],
   "source": [
    "# Split the dataset between training and test set.\n",
    "X1_train, X1_test, y1_train, y1_test = train_test_split(X1, y1, test_size=0.25, random_state=45)"
   ]
  },
  {
   "cell_type": "code",
   "execution_count": 20,
   "metadata": {},
   "outputs": [
    {
     "data": {
      "text/plain": [
       "3    0.338235\n",
       "2    0.330882\n",
       "4    0.169118\n",
       "1    0.161765\n",
       "Name: salary_category, dtype: float64"
      ]
     },
     "execution_count": 20,
     "metadata": {},
     "output_type": "execute_result"
    }
   ],
   "source": [
    "# Base accuracy values for test set\n",
    "y1_test.value_counts()/len(y1_test)"
   ]
  },
  {
   "cell_type": "code",
   "execution_count": 21,
   "metadata": {},
   "outputs": [],
   "source": [
    "# Preprocessing\n",
    "# As the feature selected is text, it has to be vectorized before fitting the model.\n",
    "# Significant tokens includes the number of years of experiences.\n",
    "# Numbers itself does not have any meaning.\n",
    "cV_1a = CountVectorizer(stop_words='english', strip_accents='unicode', analyzer='word', token_pattern='[0-9]*\\syears|[A-Za-z]+', ngram_range=(1, 5))"
   ]
  },
  {
   "cell_type": "code",
   "execution_count": 22,
   "metadata": {},
   "outputs": [
    {
     "data": {
      "text/plain": [
       "0.4227941176470588"
      ]
     },
     "execution_count": 22,
     "metadata": {},
     "output_type": "execute_result"
    }
   ],
   "source": [
    "# Modelling using Random Forest Classifier\n",
    "rfC_1a = RandomForestClassifier(n_estimators=17, max_features=200)\n",
    "\n",
    "pipeline_1a = Pipeline([\n",
    "    ('vect', cV_1a),\n",
    "    ('rf', rfC_1a)\n",
    "])\n",
    "\n",
    "pipeline_1a.fit(X1_train, y1_train)\n",
    "\n",
    "# Initial validation of test set on the model.\n",
    "pipeline_1a.score(X1_test, y1_test)"
   ]
  },
  {
   "cell_type": "code",
   "execution_count": 23,
   "metadata": {},
   "outputs": [
    {
     "data": {
      "text/html": [
       "<div>\n",
       "<style scoped>\n",
       "    .dataframe tbody tr th:only-of-type {\n",
       "        vertical-align: middle;\n",
       "    }\n",
       "\n",
       "    .dataframe tbody tr th {\n",
       "        vertical-align: top;\n",
       "    }\n",
       "\n",
       "    .dataframe thead th {\n",
       "        text-align: right;\n",
       "    }\n",
       "</style>\n",
       "<table border=\"1\" class=\"dataframe\">\n",
       "  <thead>\n",
       "    <tr style=\"text-align: right;\">\n",
       "      <th></th>\n",
       "      <th>Predicted 1</th>\n",
       "      <th>Predicted 2</th>\n",
       "      <th>Predicted 3</th>\n",
       "      <th>Predicted 4</th>\n",
       "    </tr>\n",
       "  </thead>\n",
       "  <tbody>\n",
       "    <tr>\n",
       "      <th>1</th>\n",
       "      <td>9</td>\n",
       "      <td>23</td>\n",
       "      <td>10</td>\n",
       "      <td>2</td>\n",
       "    </tr>\n",
       "    <tr>\n",
       "      <th>2</th>\n",
       "      <td>4</td>\n",
       "      <td>65</td>\n",
       "      <td>21</td>\n",
       "      <td>0</td>\n",
       "    </tr>\n",
       "    <tr>\n",
       "      <th>3</th>\n",
       "      <td>1</td>\n",
       "      <td>51</td>\n",
       "      <td>37</td>\n",
       "      <td>3</td>\n",
       "    </tr>\n",
       "    <tr>\n",
       "      <th>4</th>\n",
       "      <td>1</td>\n",
       "      <td>25</td>\n",
       "      <td>16</td>\n",
       "      <td>4</td>\n",
       "    </tr>\n",
       "  </tbody>\n",
       "</table>\n",
       "</div>"
      ],
      "text/plain": [
       "   Predicted 1  Predicted 2  Predicted 3  Predicted 4\n",
       "1            9           23           10            2\n",
       "2            4           65           21            0\n",
       "3            1           51           37            3\n",
       "4            1           25           16            4"
      ]
     },
     "execution_count": 23,
     "metadata": {},
     "output_type": "execute_result"
    }
   ],
   "source": [
    "# Understand the accuracy of the model using confusion matrix\n",
    "cF1 = confusion_matrix(y1_test, pipeline_1a.predict(X1_test), labels=range(1, 5))\n",
    "pd.DataFrame(cF1, index=range(1, 5), columns=['Predicted {}'.format(idx) for idx in range(1,5)])"
   ]
  },
  {
   "cell_type": "code",
   "execution_count": 24,
   "metadata": {},
   "outputs": [
    {
     "name": "stdout",
     "output_type": "stream",
     "text": [
      "             precision    recall  f1-score   support\n",
      "\n",
      "          1       0.60      0.20      0.31        44\n",
      "          2       0.40      0.72      0.51        90\n",
      "          3       0.44      0.40      0.42        92\n",
      "          4       0.44      0.09      0.15        46\n",
      "\n",
      "avg / total       0.45      0.42      0.39       272\n",
      "\n"
     ]
    }
   ],
   "source": [
    "print(classification_report(y1_test, pipeline_1a.predict(X1_test)))"
   ]
  },
  {
   "cell_type": "code",
   "execution_count": 25,
   "metadata": {},
   "outputs": [],
   "source": [
    "# Understand the tokens that are used to build the trees.\n",
    "list_features = [{'token': token, 'score': score} for (token, score) in zip(cV_1a.get_feature_names(), rfC_1a.feature_importances_) if score > 0]\n",
    "df_features = pd.DataFrame(list_features)\n",
    "df_features.sort_values(by = 'score', inplace=True)"
   ]
  },
  {
   "cell_type": "code",
   "execution_count": 26,
   "metadata": {},
   "outputs": [
    {
     "data": {
      "text/html": [
       "<div>\n",
       "<style scoped>\n",
       "    .dataframe tbody tr th:only-of-type {\n",
       "        vertical-align: middle;\n",
       "    }\n",
       "\n",
       "    .dataframe tbody tr th {\n",
       "        vertical-align: top;\n",
       "    }\n",
       "\n",
       "    .dataframe thead th {\n",
       "        text-align: right;\n",
       "    }\n",
       "</style>\n",
       "<table border=\"1\" class=\"dataframe\">\n",
       "  <thead>\n",
       "    <tr style=\"text-align: right;\">\n",
       "      <th></th>\n",
       "      <th>score</th>\n",
       "      <th>token</th>\n",
       "    </tr>\n",
       "  </thead>\n",
       "  <tbody>\n",
       "    <tr>\n",
       "      <th>1242</th>\n",
       "      <td>2.917437e-08</td>\n",
       "      <td>defined</td>\n",
       "    </tr>\n",
       "    <tr>\n",
       "      <th>2518</th>\n",
       "      <td>3.318682e-08</td>\n",
       "      <td>information treated</td>\n",
       "    </tr>\n",
       "    <tr>\n",
       "      <th>3516</th>\n",
       "      <td>4.085811e-08</td>\n",
       "      <td>perform academic reviews</td>\n",
       "    </tr>\n",
       "    <tr>\n",
       "      <th>3080</th>\n",
       "      <td>4.527822e-08</td>\n",
       "      <td>marketing problem</td>\n",
       "    </tr>\n",
       "    <tr>\n",
       "      <th>3807</th>\n",
       "      <td>4.954983e-08</td>\n",
       "      <td>professional attitude work meticulous coding</td>\n",
       "    </tr>\n",
       "    <tr>\n",
       "      <th>3289</th>\n",
       "      <td>5.044951e-08</td>\n",
       "      <td>needs training implementation prior</td>\n",
       "    </tr>\n",
       "    <tr>\n",
       "      <th>4887</th>\n",
       "      <td>5.099277e-08</td>\n",
       "      <td>student research consultancy projects local</td>\n",
       "    </tr>\n",
       "    <tr>\n",
       "      <th>2341</th>\n",
       "      <td>5.854156e-08</td>\n",
       "      <td>high integrity</td>\n",
       "    </tr>\n",
       "    <tr>\n",
       "      <th>4533</th>\n",
       "      <td>6.146864e-08</td>\n",
       "      <td>shares</td>\n",
       "    </tr>\n",
       "    <tr>\n",
       "      <th>2495</th>\n",
       "      <td>6.872107e-08</td>\n",
       "      <td>industry experience gathering</td>\n",
       "    </tr>\n",
       "    <tr>\n",
       "      <th>1185</th>\n",
       "      <td>7.164904e-08</td>\n",
       "      <td>data understanding hands experience</td>\n",
       "    </tr>\n",
       "    <tr>\n",
       "      <th>5186</th>\n",
       "      <td>7.536328e-08</td>\n",
       "      <td>time streaming application ingestion processing</td>\n",
       "    </tr>\n",
       "    <tr>\n",
       "      <th>4451</th>\n",
       "      <td>8.007394e-08</td>\n",
       "      <td>security products</td>\n",
       "    </tr>\n",
       "    <tr>\n",
       "      <th>3925</th>\n",
       "      <td>8.276566e-08</td>\n",
       "      <td>provide platform structure support</td>\n",
       "    </tr>\n",
       "    <tr>\n",
       "      <th>2463</th>\n",
       "      <td>9.853114e-08</td>\n",
       "      <td>including prioritization build new features</td>\n",
       "    </tr>\n",
       "    <tr>\n",
       "      <th>4447</th>\n",
       "      <td>1.002390e-07</td>\n",
       "      <td>secondments markets stashaway expanding</td>\n",
       "    </tr>\n",
       "    <tr>\n",
       "      <th>4528</th>\n",
       "      <td>1.025468e-07</td>\n",
       "      <td>sg reasons leaving current employment</td>\n",
       "    </tr>\n",
       "    <tr>\n",
       "      <th>2813</th>\n",
       "      <td>1.064136e-07</td>\n",
       "      <td>leader lead role merger acquisition</td>\n",
       "    </tr>\n",
       "    <tr>\n",
       "      <th>3462</th>\n",
       "      <td>1.090215e-07</td>\n",
       "      <td>ospf isis vrrp</td>\n",
       "    </tr>\n",
       "    <tr>\n",
       "      <th>1883</th>\n",
       "      <td>1.093832e-07</td>\n",
       "      <td>existing house application end user</td>\n",
       "    </tr>\n",
       "  </tbody>\n",
       "</table>\n",
       "</div>"
      ],
      "text/plain": [
       "             score                                            token\n",
       "1242  2.917437e-08                                          defined\n",
       "2518  3.318682e-08                              information treated\n",
       "3516  4.085811e-08                         perform academic reviews\n",
       "3080  4.527822e-08                                marketing problem\n",
       "3807  4.954983e-08     professional attitude work meticulous coding\n",
       "3289  5.044951e-08              needs training implementation prior\n",
       "4887  5.099277e-08      student research consultancy projects local\n",
       "2341  5.854156e-08                                   high integrity\n",
       "4533  6.146864e-08                                           shares\n",
       "2495  6.872107e-08                    industry experience gathering\n",
       "1185  7.164904e-08              data understanding hands experience\n",
       "5186  7.536328e-08  time streaming application ingestion processing\n",
       "4451  8.007394e-08                                security products\n",
       "3925  8.276566e-08               provide platform structure support\n",
       "2463  9.853114e-08      including prioritization build new features\n",
       "4447  1.002390e-07          secondments markets stashaway expanding\n",
       "4528  1.025468e-07            sg reasons leaving current employment\n",
       "2813  1.064136e-07              leader lead role merger acquisition\n",
       "3462  1.090215e-07                                   ospf isis vrrp\n",
       "1883  1.093832e-07              existing house application end user"
      ]
     },
     "execution_count": 26,
     "metadata": {},
     "output_type": "execute_result"
    }
   ],
   "source": [
    "df_features.head(20)"
   ]
  },
  {
   "cell_type": "code",
   "execution_count": 27,
   "metadata": {},
   "outputs": [],
   "source": [
    "# Modelling using Naive Bayes\n",
    "nbC_1a = MultinomialNB(fit_prior=True)\n",
    "pipeline_1a_nb = Pipeline([\n",
    "    ('vect', cV_1a),\n",
    "    ('nb', nbC_1a)\n",
    "])"
   ]
  },
  {
   "cell_type": "code",
   "execution_count": 28,
   "metadata": {},
   "outputs": [
    {
     "data": {
      "text/plain": [
       "array([0.43589744, 0.50915751, 0.44074074])"
      ]
     },
     "execution_count": 28,
     "metadata": {},
     "output_type": "execute_result"
    }
   ],
   "source": [
    "# Carry out three-fold cross validation\n",
    "cross_val_score(pipeline_1a_nb, X1_train, y1_train, cv=3)"
   ]
  },
  {
   "cell_type": "code",
   "execution_count": 29,
   "metadata": {},
   "outputs": [
    {
     "data": {
      "text/plain": [
       "Pipeline(memory=None,\n",
       "     steps=[('vect', CountVectorizer(analyzer='word', binary=False, decode_error=u'strict',\n",
       "        dtype=<type 'numpy.int64'>, encoding=u'utf-8', input=u'content',\n",
       "        lowercase=True, max_df=1.0, max_features=None, min_df=1,\n",
       "        ngram_range=(1, 5), preprocessor=None, stop_words='english',\n",
       "        strip_accents='unicode', token_pattern='[0-9]*\\\\syears|[A-Za-z]+',\n",
       "        tokenizer=None, vocabulary=None)), ('nb', MultinomialNB(alpha=1.0, class_prior=None, fit_prior=True))])"
      ]
     },
     "execution_count": 29,
     "metadata": {},
     "output_type": "execute_result"
    }
   ],
   "source": [
    "pipeline_1a_nb.fit(X1_train, y1_train)"
   ]
  },
  {
   "cell_type": "code",
   "execution_count": 30,
   "metadata": {},
   "outputs": [
    {
     "data": {
      "text/plain": [
       "0.47058823529411764"
      ]
     },
     "execution_count": 30,
     "metadata": {},
     "output_type": "execute_result"
    }
   ],
   "source": [
    "# Initial score on the testing set.\n",
    "pipeline_1a_nb.score(X1_test, y1_test)"
   ]
  },
  {
   "cell_type": "code",
   "execution_count": 31,
   "metadata": {},
   "outputs": [
    {
     "data": {
      "text/html": [
       "<div>\n",
       "<style scoped>\n",
       "    .dataframe tbody tr th:only-of-type {\n",
       "        vertical-align: middle;\n",
       "    }\n",
       "\n",
       "    .dataframe tbody tr th {\n",
       "        vertical-align: top;\n",
       "    }\n",
       "\n",
       "    .dataframe thead th {\n",
       "        text-align: right;\n",
       "    }\n",
       "</style>\n",
       "<table border=\"1\" class=\"dataframe\">\n",
       "  <thead>\n",
       "    <tr style=\"text-align: right;\">\n",
       "      <th></th>\n",
       "      <th>Predicted 1</th>\n",
       "      <th>Predicted 2</th>\n",
       "      <th>Predicted 3</th>\n",
       "      <th>Predicted 4</th>\n",
       "    </tr>\n",
       "  </thead>\n",
       "  <tbody>\n",
       "    <tr>\n",
       "      <th>1</th>\n",
       "      <td>12</td>\n",
       "      <td>16</td>\n",
       "      <td>15</td>\n",
       "      <td>1</td>\n",
       "    </tr>\n",
       "    <tr>\n",
       "      <th>2</th>\n",
       "      <td>6</td>\n",
       "      <td>47</td>\n",
       "      <td>37</td>\n",
       "      <td>0</td>\n",
       "    </tr>\n",
       "    <tr>\n",
       "      <th>3</th>\n",
       "      <td>1</td>\n",
       "      <td>26</td>\n",
       "      <td>60</td>\n",
       "      <td>5</td>\n",
       "    </tr>\n",
       "    <tr>\n",
       "      <th>4</th>\n",
       "      <td>1</td>\n",
       "      <td>6</td>\n",
       "      <td>30</td>\n",
       "      <td>9</td>\n",
       "    </tr>\n",
       "  </tbody>\n",
       "</table>\n",
       "</div>"
      ],
      "text/plain": [
       "   Predicted 1  Predicted 2  Predicted 3  Predicted 4\n",
       "1           12           16           15            1\n",
       "2            6           47           37            0\n",
       "3            1           26           60            5\n",
       "4            1            6           30            9"
      ]
     },
     "execution_count": 31,
     "metadata": {},
     "output_type": "execute_result"
    }
   ],
   "source": [
    "# Understand the accuracy of the model using confusion matrix\n",
    "cF1_NB = confusion_matrix(y1_test, pipeline_1a_nb.predict(X1_test), labels=range(1, 5))\n",
    "pd.DataFrame(cF1_NB, index=range(1,5), columns=['Predicted {}'.format(idx) for idx in range(1,5)])"
   ]
  },
  {
   "cell_type": "code",
   "execution_count": 32,
   "metadata": {},
   "outputs": [
    {
     "name": "stdout",
     "output_type": "stream",
     "text": [
      "             precision    recall  f1-score   support\n",
      "\n",
      "          1       0.60      0.27      0.37        44\n",
      "          2       0.49      0.52      0.51        90\n",
      "          3       0.42      0.65      0.51        92\n",
      "          4       0.60      0.20      0.30        46\n",
      "\n",
      "avg / total       0.51      0.47      0.45       272\n",
      "\n"
     ]
    }
   ],
   "source": [
    "print(classification_report(y1_test, pipeline_1a_nb.predict(X1_test)))"
   ]
  },
  {
   "cell_type": "code",
   "execution_count": 55,
   "metadata": {},
   "outputs": [],
   "source": [
    "# Determine the top 10 most common tokens found for each salary category, in the order of 1 to 4.\n",
    "list_token_score = [[{'token': token, 'score':score} for (token, score) in zip(cV_1a.get_feature_names(), list_coef) if score != 0] for list_coef in nbC_1a.coef_]\n",
    "df_token_score = [pd.DataFrame(list_category_token_score) for list_category_token_score in list_token_score]\n",
    "df_token_score_sorted = [df.sort_values(by='score', ascending=False, inplace=False) for df in df_token_score]"
   ]
  },
  {
   "cell_type": "code",
   "execution_count": 62,
   "metadata": {},
   "outputs": [
    {
     "name": "stdout",
     "output_type": "stream",
     "text": [
      "           score        token\n",
      "137834 -7.588859   experience\n",
      "84703  -7.756616         data\n",
      "339523 -7.770409     software\n",
      "404689 -7.930751         work\n",
      "106216 -7.986632  development\n",
      "335784 -8.027693       skills\n",
      "308155 -8.027693     research\n",
      "367161 -8.247847         team\n",
      "99819  -8.278153       design\n",
      "42988  -8.317374     business\n",
      "\n",
      "           score        token\n",
      "137834 -6.653020   experience\n",
      "84703  -6.871573         data\n",
      "42988  -7.143602     business\n",
      "106216 -7.292423  development\n",
      "339523 -7.352321     software\n",
      "404689 -7.492577         work\n",
      "335784 -7.527262       skills\n",
      "367161 -7.569310         team\n",
      "99819  -7.626108       design\n",
      "199134 -7.780259    knowledge\n",
      "\n",
      "           score         token\n",
      "137834 -6.612328    experience\n",
      "42988  -6.719175      business\n",
      "84703  -6.758346          data\n",
      "106216 -7.346390   development\n",
      "335784 -7.355714        skills\n",
      "404689 -7.418537          work\n",
      "367161 -7.540381          team\n",
      "218515 -7.543202    management\n",
      "199134 -7.577688     knowledge\n",
      "305682 -7.619485  requirements\n",
      "\n",
      "           score        token\n",
      "137834 -6.962320   experience\n",
      "84703  -7.034547         data\n",
      "42988  -7.136763     business\n",
      "335784 -7.715621       skills\n",
      "367161 -7.781761         team\n",
      "404689 -7.899544         work\n",
      "218515 -7.948815   management\n",
      "106216 -8.033075  development\n",
      "199134 -8.038585    knowledge\n",
      "355795 -8.187226       strong\n",
      "\n"
     ]
    }
   ],
   "source": [
    "for category in range(0, 4):\n",
    "    print(df_token_score_sorted[category].head(10))\n",
    "    print('')"
   ]
  },
  {
   "cell_type": "markdown",
   "metadata": {},
   "source": [
    "Between the model using Random Forest and that using Naive Bayes, the model using Naive Bayes has a better recall for most of the salary category (except for category 2), and have a higher accuracy of prediction of salary category than that of Random Forest. However, the model using Naive Bayes have a greater tendacy of predicting higher salary category than that of Random Forest.\n",
    "\n",
    "I seek to understand the most significant tokens that are used in building the models by feature importance scores in Random Forest and coefficients in Naive Bayes. For Random Forest there are lack of tokens involving description of the requirements about amount of experience while in Naive Bayes, existence of single word tokens have higher probabilities in each salary category. "
   ]
  },
  {
   "cell_type": "markdown",
   "metadata": {},
   "source": [
    "## Factors that impact job category - Results"
   ]
  },
  {
   "cell_type": "code",
   "execution_count": 33,
   "metadata": {},
   "outputs": [],
   "source": [
    "# Exclude the job posts that do not have seniority class from the training and testing set, as they have varying \n",
    "# levels of seniority in the same job post.\n",
    "df_jobs_selected_2 = df_jobs[df_jobs['seniority_class'] != ''].copy()"
   ]
  },
  {
   "cell_type": "code",
   "execution_count": 34,
   "metadata": {},
   "outputs": [],
   "source": [
    "X2 = df_jobs_selected_2['description']\n",
    "y2 = df_jobs_selected_2['seniority_class']"
   ]
  },
  {
   "cell_type": "code",
   "execution_count": 35,
   "metadata": {},
   "outputs": [],
   "source": [
    "X2_train, X2_test, y2_train, y2_test = train_test_split(X2, y2, test_size=0.25, random_state=45)"
   ]
  },
  {
   "cell_type": "code",
   "execution_count": 36,
   "metadata": {},
   "outputs": [
    {
     "data": {
      "text/plain": [
       "Middle    0.713235\n",
       "Senior    0.176471\n",
       "Junior    0.110294\n",
       "Name: seniority_class, dtype: float64"
      ]
     },
     "execution_count": 36,
     "metadata": {},
     "output_type": "execute_result"
    }
   ],
   "source": [
    "# Base accuracy on the testing set\n",
    "y2_test.value_counts()/len(y2_test)"
   ]
  },
  {
   "cell_type": "code",
   "execution_count": 37,
   "metadata": {},
   "outputs": [],
   "source": [
    "# Preprocessing\n",
    "# As the feature selected is text, it has to be vectorized before fitting the model.\n",
    "# Significant tokens includes the number of years of experiences.\n",
    "# Numbers itself does not have any meaning.\n",
    "cV_2a = CountVectorizer(stop_words='english', strip_accents='unicode', analyzer='word', token_pattern='[0-9]*\\syears|[A-Za-z]+', ngram_range=(1, 5))"
   ]
  },
  {
   "cell_type": "code",
   "execution_count": 38,
   "metadata": {},
   "outputs": [],
   "source": [
    "# Modelling using Random Forest Classifier\n",
    "rfC_2a = RandomForestClassifier(n_estimators=17, max_features=50)\n",
    "pipeline_2a = Pipeline([\n",
    "    ('vect', cV_2a),\n",
    "    ('nb', rfC_2a)\n",
    "])"
   ]
  },
  {
   "cell_type": "code",
   "execution_count": 39,
   "metadata": {},
   "outputs": [
    {
     "data": {
      "text/plain": [
       "0.7463235294117647"
      ]
     },
     "execution_count": 39,
     "metadata": {},
     "output_type": "execute_result"
    }
   ],
   "source": [
    "pipeline_2a.fit(X2_train, y2_train)\n",
    "\n",
    "# Carry out initial validation using basic scoring\n",
    "pipeline_2a.score(X2_test, y2_test)"
   ]
  },
  {
   "cell_type": "code",
   "execution_count": 40,
   "metadata": {},
   "outputs": [
    {
     "data": {
      "text/html": [
       "<div>\n",
       "<style scoped>\n",
       "    .dataframe tbody tr th:only-of-type {\n",
       "        vertical-align: middle;\n",
       "    }\n",
       "\n",
       "    .dataframe tbody tr th {\n",
       "        vertical-align: top;\n",
       "    }\n",
       "\n",
       "    .dataframe thead th {\n",
       "        text-align: right;\n",
       "    }\n",
       "</style>\n",
       "<table border=\"1\" class=\"dataframe\">\n",
       "  <thead>\n",
       "    <tr style=\"text-align: right;\">\n",
       "      <th></th>\n",
       "      <th>Predicted Junior</th>\n",
       "      <th>Predicted Middle</th>\n",
       "      <th>Predicted Senior</th>\n",
       "    </tr>\n",
       "  </thead>\n",
       "  <tbody>\n",
       "    <tr>\n",
       "      <th>Junior</th>\n",
       "      <td>2</td>\n",
       "      <td>27</td>\n",
       "      <td>1</td>\n",
       "    </tr>\n",
       "    <tr>\n",
       "      <th>Middle</th>\n",
       "      <td>1</td>\n",
       "      <td>192</td>\n",
       "      <td>1</td>\n",
       "    </tr>\n",
       "    <tr>\n",
       "      <th>Senior</th>\n",
       "      <td>1</td>\n",
       "      <td>38</td>\n",
       "      <td>9</td>\n",
       "    </tr>\n",
       "  </tbody>\n",
       "</table>\n",
       "</div>"
      ],
      "text/plain": [
       "        Predicted Junior  Predicted Middle  Predicted Senior\n",
       "Junior                 2                27                 1\n",
       "Middle                 1               192                 1\n",
       "Senior                 1                38                 9"
      ]
     },
     "execution_count": 40,
     "metadata": {},
     "output_type": "execute_result"
    }
   ],
   "source": [
    "# Validate accuracy of the model using confusion matrix and classification report.\n",
    "cF2a = confusion_matrix(y2_test, pipeline_2a.predict(X2_test), labels=[\"Junior\", \"Middle\", \"Senior\"])\n",
    "pd.DataFrame(cF2a, index=[\"Junior\", \"Middle\", \"Senior\"], columns=['Predicted {}'.format(lbl) for lbl in [\"Junior\", \"Middle\", \"Senior\"]])"
   ]
  },
  {
   "cell_type": "code",
   "execution_count": 41,
   "metadata": {},
   "outputs": [
    {
     "name": "stdout",
     "output_type": "stream",
     "text": [
      "             precision    recall  f1-score   support\n",
      "\n",
      "     Junior       0.50      0.07      0.12        30\n",
      "     Middle       0.75      0.99      0.85       194\n",
      "     Senior       0.82      0.19      0.31        48\n",
      "\n",
      "avg / total       0.73      0.75      0.67       272\n",
      "\n"
     ]
    }
   ],
   "source": [
    "print(classification_report(y2_test, pipeline_2a.predict(X2_test)))"
   ]
  },
  {
   "cell_type": "code",
   "execution_count": 42,
   "metadata": {},
   "outputs": [],
   "source": [
    "# Understand the tokens that are used to build the trees.\n",
    "list_features_2 = [{'token': token, 'score': score} for (token, score) in zip(cV_2a.get_feature_names(), rfC_2a.feature_importances_) if score > 0]\n",
    "df_features_2 = pd.DataFrame(list_features_2)\n",
    "df_features_2.sort_values(by = 'score', inplace=True)"
   ]
  },
  {
   "cell_type": "code",
   "execution_count": 43,
   "metadata": {},
   "outputs": [
    {
     "data": {
      "text/html": [
       "<div>\n",
       "<style scoped>\n",
       "    .dataframe tbody tr th:only-of-type {\n",
       "        vertical-align: middle;\n",
       "    }\n",
       "\n",
       "    .dataframe tbody tr th {\n",
       "        vertical-align: top;\n",
       "    }\n",
       "\n",
       "    .dataframe thead th {\n",
       "        text-align: right;\n",
       "    }\n",
       "</style>\n",
       "<table border=\"1\" class=\"dataframe\">\n",
       "  <thead>\n",
       "    <tr style=\"text-align: right;\">\n",
       "      <th></th>\n",
       "      <th>score</th>\n",
       "      <th>token</th>\n",
       "    </tr>\n",
       "  </thead>\n",
       "  <tbody>\n",
       "    <tr>\n",
       "      <th>2525</th>\n",
       "      <td>6.112182e-09</td>\n",
       "      <td>methods important strongly encourage applicants</td>\n",
       "    </tr>\n",
       "    <tr>\n",
       "      <th>1523</th>\n",
       "      <td>8.986944e-09</td>\n",
       "      <td>experience advantageous apply</td>\n",
       "    </tr>\n",
       "    <tr>\n",
       "      <th>4514</th>\n",
       "      <td>9.945902e-09</td>\n",
       "      <td>web borne attacks create solutions</td>\n",
       "    </tr>\n",
       "    <tr>\n",
       "      <th>2033</th>\n",
       "      <td>1.035601e-08</td>\n",
       "      <td>insights startup world</td>\n",
       "    </tr>\n",
       "    <tr>\n",
       "      <th>367</th>\n",
       "      <td>1.052718e-08</td>\n",
       "      <td>attendance software implementations ready travel</td>\n",
       "    </tr>\n",
       "    <tr>\n",
       "      <th>3962</th>\n",
       "      <td>1.070263e-08</td>\n",
       "      <td>story excited building</td>\n",
       "    </tr>\n",
       "    <tr>\n",
       "      <th>3155</th>\n",
       "      <td>1.092067e-08</td>\n",
       "      <td>project managers business analysts software</td>\n",
       "    </tr>\n",
       "    <tr>\n",
       "      <th>694</th>\n",
       "      <td>1.169612e-08</td>\n",
       "      <td>cloud docker aws strong experience</td>\n",
       "    </tr>\n",
       "    <tr>\n",
       "      <th>1361</th>\n",
       "      <td>1.206352e-08</td>\n",
       "      <td>end accountability management</td>\n",
       "    </tr>\n",
       "    <tr>\n",
       "      <th>2212</th>\n",
       "      <td>1.229775e-08</td>\n",
       "      <td>knowledge expertise strong knowledge</td>\n",
       "    </tr>\n",
       "    <tr>\n",
       "      <th>3207</th>\n",
       "      <td>1.230928e-08</td>\n",
       "      <td>psp acquiring visa mc maestro</td>\n",
       "    </tr>\n",
       "    <tr>\n",
       "      <th>1176</th>\n",
       "      <td>1.245542e-08</td>\n",
       "      <td>development ability write troubleshoot</td>\n",
       "    </tr>\n",
       "    <tr>\n",
       "      <th>1123</th>\n",
       "      <td>1.293402e-08</td>\n",
       "      <td>design review codes</td>\n",
       "    </tr>\n",
       "    <tr>\n",
       "      <th>4271</th>\n",
       "      <td>1.322797e-08</td>\n",
       "      <td>time developing documentation</td>\n",
       "    </tr>\n",
       "    <tr>\n",
       "      <th>4333</th>\n",
       "      <td>1.409576e-08</td>\n",
       "      <td>transformed effective solutions cost</td>\n",
       "    </tr>\n",
       "    <tr>\n",
       "      <th>981</th>\n",
       "      <td>1.428373e-08</td>\n",
       "      <td>data issues application perform</td>\n",
       "    </tr>\n",
       "    <tr>\n",
       "      <th>3895</th>\n",
       "      <td>1.462518e-08</td>\n",
       "      <td>spirit flexibility adapt dynamic changing</td>\n",
       "    </tr>\n",
       "    <tr>\n",
       "      <th>2114</th>\n",
       "      <td>1.522208e-08</td>\n",
       "      <td>involving aml</td>\n",
       "    </tr>\n",
       "    <tr>\n",
       "      <th>3149</th>\n",
       "      <td>1.528067e-08</td>\n",
       "      <td>project involves areas non contact</td>\n",
       "    </tr>\n",
       "    <tr>\n",
       "      <th>1621</th>\n",
       "      <td>1.569720e-08</td>\n",
       "      <td>expertise unix</td>\n",
       "    </tr>\n",
       "  </tbody>\n",
       "</table>\n",
       "</div>"
      ],
      "text/plain": [
       "             score                                             token\n",
       "2525  6.112182e-09   methods important strongly encourage applicants\n",
       "1523  8.986944e-09                     experience advantageous apply\n",
       "4514  9.945902e-09                web borne attacks create solutions\n",
       "2033  1.035601e-08                            insights startup world\n",
       "367   1.052718e-08  attendance software implementations ready travel\n",
       "3962  1.070263e-08                            story excited building\n",
       "3155  1.092067e-08       project managers business analysts software\n",
       "694   1.169612e-08                cloud docker aws strong experience\n",
       "1361  1.206352e-08                     end accountability management\n",
       "2212  1.229775e-08              knowledge expertise strong knowledge\n",
       "3207  1.230928e-08                     psp acquiring visa mc maestro\n",
       "1176  1.245542e-08            development ability write troubleshoot\n",
       "1123  1.293402e-08                               design review codes\n",
       "4271  1.322797e-08                     time developing documentation\n",
       "4333  1.409576e-08              transformed effective solutions cost\n",
       "981   1.428373e-08                   data issues application perform\n",
       "3895  1.462518e-08         spirit flexibility adapt dynamic changing\n",
       "2114  1.522208e-08                                     involving aml\n",
       "3149  1.528067e-08                project involves areas non contact\n",
       "1621  1.569720e-08                                    expertise unix"
      ]
     },
     "execution_count": 43,
     "metadata": {},
     "output_type": "execute_result"
    }
   ],
   "source": [
    "df_features_2.head(20)"
   ]
  },
  {
   "cell_type": "code",
   "execution_count": 44,
   "metadata": {},
   "outputs": [],
   "source": [
    "# Modelling using Naive Bayes\n",
    "nbC_2 = MultinomialNB()\n",
    "pipeline_2_nb = Pipeline([\n",
    "    ('vect', cV_2a),\n",
    "    ('nb', nbC_2)\n",
    "])"
   ]
  },
  {
   "cell_type": "code",
   "execution_count": 45,
   "metadata": {},
   "outputs": [
    {
     "data": {
      "text/plain": [
       "array([0.70220588, 0.70588235, 0.67158672])"
      ]
     },
     "execution_count": 45,
     "metadata": {},
     "output_type": "execute_result"
    }
   ],
   "source": [
    "# Carry out three-fold cross validation\n",
    "cross_val_score(pipeline_2_nb, X2_train, y2_train, cv=3)"
   ]
  },
  {
   "cell_type": "code",
   "execution_count": 46,
   "metadata": {},
   "outputs": [
    {
     "data": {
      "text/plain": [
       "0.7352941176470589"
      ]
     },
     "execution_count": 46,
     "metadata": {},
     "output_type": "execute_result"
    }
   ],
   "source": [
    "pipeline_2_nb.fit(X2_train, y2_train)\n",
    "\n",
    "# Validate model using basic scoring on test set.\n",
    "pipeline_2_nb.score(X2_test, y2_test)"
   ]
  },
  {
   "cell_type": "code",
   "execution_count": 47,
   "metadata": {},
   "outputs": [
    {
     "data": {
      "text/html": [
       "<div>\n",
       "<style scoped>\n",
       "    .dataframe tbody tr th:only-of-type {\n",
       "        vertical-align: middle;\n",
       "    }\n",
       "\n",
       "    .dataframe tbody tr th {\n",
       "        vertical-align: top;\n",
       "    }\n",
       "\n",
       "    .dataframe thead th {\n",
       "        text-align: right;\n",
       "    }\n",
       "</style>\n",
       "<table border=\"1\" class=\"dataframe\">\n",
       "  <thead>\n",
       "    <tr style=\"text-align: right;\">\n",
       "      <th></th>\n",
       "      <th>Predicted Junior</th>\n",
       "      <th>Predicted Middle</th>\n",
       "      <th>Predicted Senior</th>\n",
       "    </tr>\n",
       "  </thead>\n",
       "  <tbody>\n",
       "    <tr>\n",
       "      <th>Junior</th>\n",
       "      <td>5</td>\n",
       "      <td>22</td>\n",
       "      <td>3</td>\n",
       "    </tr>\n",
       "    <tr>\n",
       "      <th>Middle</th>\n",
       "      <td>4</td>\n",
       "      <td>184</td>\n",
       "      <td>6</td>\n",
       "    </tr>\n",
       "    <tr>\n",
       "      <th>Senior</th>\n",
       "      <td>1</td>\n",
       "      <td>36</td>\n",
       "      <td>11</td>\n",
       "    </tr>\n",
       "  </tbody>\n",
       "</table>\n",
       "</div>"
      ],
      "text/plain": [
       "        Predicted Junior  Predicted Middle  Predicted Senior\n",
       "Junior                 5                22                 3\n",
       "Middle                 4               184                 6\n",
       "Senior                 1                36                11"
      ]
     },
     "execution_count": 47,
     "metadata": {},
     "output_type": "execute_result"
    }
   ],
   "source": [
    "# Validate accuracy of the model using confusion matrix and classification report.\n",
    "cF2b = confusion_matrix(y2_test, pipeline_2_nb.predict(X2_test), labels=[\"Junior\", \"Middle\", \"Senior\"])\n",
    "pd.DataFrame(cF2b, index=[\"Junior\", \"Middle\", \"Senior\"], columns=['Predicted {}'.format(lbl) for lbl in [\"Junior\", \"Middle\", \"Senior\"]])"
   ]
  },
  {
   "cell_type": "code",
   "execution_count": 48,
   "metadata": {},
   "outputs": [
    {
     "name": "stdout",
     "output_type": "stream",
     "text": [
      "             precision    recall  f1-score   support\n",
      "\n",
      "     Junior       0.50      0.17      0.25        30\n",
      "     Middle       0.76      0.95      0.84       194\n",
      "     Senior       0.55      0.23      0.32        48\n",
      "\n",
      "avg / total       0.69      0.74      0.69       272\n",
      "\n"
     ]
    }
   ],
   "source": [
    "print(classification_report(y2_test, pipeline_2_nb.predict(X2_test)))"
   ]
  },
  {
   "cell_type": "code",
   "execution_count": 63,
   "metadata": {},
   "outputs": [],
   "source": [
    "# Determine the top 10 most common tokens that can be found in each seniority class, in the order of [\"Junior\", \"Middle\", \"Senior\"]\n",
    "list_token_score_2 = [[{'token': token, 'score':score} for (token, score) in zip(cV_2a.get_feature_names(), list_coef) if score != 0] for list_coef in nbC_2.coef_]\n",
    "df_token_score_2 = [pd.DataFrame(list_category_token_score) for list_category_token_score in list_token_score_2]\n",
    "df_token_score_sorted_2 = [df.sort_values(by='score', ascending=False, inplace=False) for df in df_token_score_2]"
   ]
  },
  {
   "cell_type": "code",
   "execution_count": 64,
   "metadata": {},
   "outputs": [
    {
     "name": "stdout",
     "output_type": "stream",
     "text": [
      "           score        token\n",
      "137834 -7.588859   experience\n",
      "84703  -7.756616         data\n",
      "339523 -7.770409     software\n",
      "404689 -7.930751         work\n",
      "106216 -7.986632  development\n",
      "335784 -8.027693       skills\n",
      "308155 -8.027693     research\n",
      "367161 -8.247847         team\n",
      "99819  -8.278153       design\n",
      "42988  -8.317374     business\n",
      "\n",
      "           score        token\n",
      "137834 -6.653020   experience\n",
      "84703  -6.871573         data\n",
      "42988  -7.143602     business\n",
      "106216 -7.292423  development\n",
      "339523 -7.352321     software\n",
      "404689 -7.492577         work\n",
      "335784 -7.527262       skills\n",
      "367161 -7.569310         team\n",
      "99819  -7.626108       design\n",
      "199134 -7.780259    knowledge\n",
      "\n",
      "           score         token\n",
      "137834 -6.612328    experience\n",
      "42988  -6.719175      business\n",
      "84703  -6.758346          data\n",
      "106216 -7.346390   development\n",
      "335784 -7.355714        skills\n",
      "404689 -7.418537          work\n",
      "367161 -7.540381          team\n",
      "218515 -7.543202    management\n",
      "199134 -7.577688     knowledge\n",
      "305682 -7.619485  requirements\n",
      "\n"
     ]
    }
   ],
   "source": [
    "for category in range(0, 3):\n",
    "    print(df_token_score_sorted[category].head(10))\n",
    "    print('')"
   ]
  },
  {
   "cell_type": "markdown",
   "metadata": {},
   "source": [
    "The model using Naive Bayes has a higher recall across most classes of seniority than that of Random Forest Classifier. It is able to give a slightly more accurate prediction on jobs in Junior and Senior class than that of Random Forest.\n",
    "\n",
    "For interpretion of the models, large amount of tokens describing the scope of the job make up the most significant features in building model using Random Forest while when using Naive Bayes, the classification can be highly influenced by single word tokens. In the Senior class, the more common words are \"management\" and \"requirements\" whereas \"business\" is relatively less common in the Junior class."
   ]
  },
  {
   "cell_type": "markdown",
   "metadata": {},
   "source": [
    "## Model for incorrect prediction with lower salary category - Result\n",
    "In order to get incorrect prediction with lower salary category, I use the model that have greater tendency of predicting lower salary category and then tweaking it. In addition, the predictor will be based on minimum salary, so that the jobs can be classified at a lower salary category."
   ]
  },
  {
   "cell_type": "code",
   "execution_count": 82,
   "metadata": {},
   "outputs": [],
   "source": [
    "df_jobs_selected_b = df_jobs[(df_jobs['min_salary_category'] != 0) & (df_jobs['min_salary_category'] != 5)].copy()\n",
    "Xb = df_jobs_selected_b['description']\n",
    "yb = df_jobs_selected_b['min_salary_category']"
   ]
  },
  {
   "cell_type": "code",
   "execution_count": 83,
   "metadata": {},
   "outputs": [],
   "source": [
    "Xb_train, Xb_test, yb_train, yb_test = train_test_split(Xb, yb, test_size=0.25, random_state=45)"
   ]
  },
  {
   "cell_type": "code",
   "execution_count": 105,
   "metadata": {},
   "outputs": [
    {
     "data": {
      "text/plain": [
       "0.3639705882352941"
      ]
     },
     "execution_count": 105,
     "metadata": {},
     "output_type": "execute_result"
    }
   ],
   "source": [
    "cV_b = CountVectorizer(stop_words='english', strip_accents='unicode', analyzer='word', token_pattern='[0-9]*\\syears|[A-Za-z]+', ngram_range=(1, 5))\n",
    "rfC_b = RandomForestClassifier(n_estimators=3, max_leaf_nodes=4, max_depth=5, max_features=200)\n",
    "\n",
    "pipeline_b = Pipeline([\n",
    "    ('vect', cV_b),\n",
    "    ('rf', rfC_b)\n",
    "])\n",
    "\n",
    "pipeline_b.fit(X1_train, y1_train)\n",
    "pipeline_b.score(X1_test, y1_test)"
   ]
  },
  {
   "cell_type": "code",
   "execution_count": 106,
   "metadata": {},
   "outputs": [
    {
     "data": {
      "text/html": [
       "<div>\n",
       "<style scoped>\n",
       "    .dataframe tbody tr th:only-of-type {\n",
       "        vertical-align: middle;\n",
       "    }\n",
       "\n",
       "    .dataframe tbody tr th {\n",
       "        vertical-align: top;\n",
       "    }\n",
       "\n",
       "    .dataframe thead th {\n",
       "        text-align: right;\n",
       "    }\n",
       "</style>\n",
       "<table border=\"1\" class=\"dataframe\">\n",
       "  <thead>\n",
       "    <tr style=\"text-align: right;\">\n",
       "      <th></th>\n",
       "      <th>Predicted 1</th>\n",
       "      <th>Predicted 2</th>\n",
       "      <th>Predicted 3</th>\n",
       "      <th>Predicted 4</th>\n",
       "    </tr>\n",
       "  </thead>\n",
       "  <tbody>\n",
       "    <tr>\n",
       "      <th>1</th>\n",
       "      <td>2</td>\n",
       "      <td>78</td>\n",
       "      <td>9</td>\n",
       "      <td>0</td>\n",
       "    </tr>\n",
       "    <tr>\n",
       "      <th>2</th>\n",
       "      <td>1</td>\n",
       "      <td>106</td>\n",
       "      <td>16</td>\n",
       "      <td>0</td>\n",
       "    </tr>\n",
       "    <tr>\n",
       "      <th>3</th>\n",
       "      <td>0</td>\n",
       "      <td>52</td>\n",
       "      <td>6</td>\n",
       "      <td>0</td>\n",
       "    </tr>\n",
       "    <tr>\n",
       "      <th>4</th>\n",
       "      <td>0</td>\n",
       "      <td>14</td>\n",
       "      <td>2</td>\n",
       "      <td>0</td>\n",
       "    </tr>\n",
       "  </tbody>\n",
       "</table>\n",
       "</div>"
      ],
      "text/plain": [
       "   Predicted 1  Predicted 2  Predicted 3  Predicted 4\n",
       "1            2           78            9            0\n",
       "2            1          106           16            0\n",
       "3            0           52            6            0\n",
       "4            0           14            2            0"
      ]
     },
     "execution_count": 106,
     "metadata": {},
     "output_type": "execute_result"
    }
   ],
   "source": [
    "cF_b = confusion_matrix(yb_test, pipeline_b.predict(Xb_test), labels=range(1, 5))\n",
    "pd.DataFrame(cF_b, index=range(1, 5), columns=['Predicted {}'.format(idx) for idx in range(1,5)])"
   ]
  },
  {
   "cell_type": "code",
   "execution_count": 107,
   "metadata": {},
   "outputs": [
    {
     "name": "stdout",
     "output_type": "stream",
     "text": [
      "             precision    recall  f1-score   support\n",
      "\n",
      "          1       0.67      0.02      0.04        89\n",
      "          2       0.42      0.86      0.57       123\n",
      "          3       0.18      0.10      0.13        58\n",
      "          4       0.00      0.00      0.00        16\n",
      "\n",
      "avg / total       0.43      0.40      0.28       286\n",
      "\n"
     ]
    }
   ],
   "source": [
    "print(classification_report(yb_test, pipeline_b.predict(Xb_test)))"
   ]
  },
  {
   "cell_type": "code",
   "execution_count": 95,
   "metadata": {},
   "outputs": [],
   "source": [
    "from sklearn.metrics import roc_curve\n",
    "\n",
    "def plot_roc(y, probs, threshmarkers=None):\n",
    "    fpr, tpr, thresh = roc_curve(y, probs)\n",
    "\n",
    "    plt.figure(figsize=(8,8))\n",
    "    plt.plot(fpr, tpr, lw=2)\n",
    "   \n",
    "    plt.xlabel(\"False Positive Rate\\n(1 - Specificity)\")\n",
    "    plt.ylabel(\"True Positive Rate\\n(Sensitivity)\")\n",
    "    plt.xlim([-0.025, 1.025])\n",
    "    plt.ylim([-0.025, 1.025])\n",
    "    plt.xticks(np.linspace(0, 1, 21), rotation=45)\n",
    "    plt.yticks(np.linspace(0, 1, 21))\n",
    "    plt.show()"
   ]
  },
  {
   "cell_type": "code",
   "execution_count": 104,
   "metadata": {},
   "outputs": [
    {
     "data": {
      "image/png": "[encoded data removed]",
      "text/plain": [
       "<matplotlib.figure.Figure at 0x1a1e282b10>"
      ]
     },
     "metadata": {},
     "output_type": "display_data"
    }
   ],
   "source": [
    "# Plot the roc curve for this model.\n",
    "predicted_proba = pipeline_b.predict_proba(Xb_test)\n",
    "plot_roc(yb_test.map(lambda x: x == 2), predicted_proba[:, 1])"
   ]
  },
  {
   "cell_type": "markdown",
   "metadata": {},
   "source": [
    "The result indicates that the model has greater tendency of predicting a job with salary category 2. Whilst most of the jobs which are in the higher salary category are predicted to be of lower salary category, most of the jobs with salary category 1 will be wrongly predicted with higher salary category.\n",
    "\n",
    "In addition, tweaking the model will reduce the accuracy of the model as most of the jobs will be predicted at a lower salary category."
   ]
  },
  {
   "cell_type": "markdown",
   "metadata": {},
   "source": [
    "## Discussion\n",
    "\n",
    "### Factors that impact salary\n",
    "The results indicates that using Naive Bayes is a better model to classify salary. However, interpertion of the models indicates that experience is not the major factor in determining the salary category. Hence, there is a concern that the models here may not be reliable for predicting salary.\n",
    "\n",
    "Experience is not included in the feature in building the model to predicting salary as they are written in the requirements and hence require extraction from the text. In addition, experience is the only quantitive feature in predicting the salary and it's not the only feature that can influence salary. Other factors include the scope of responsibilites, education level, level of responsibilities of the position and the demand and supply of talents in the industry, especially when the hiring market is the free market. More importantly, the salary amount also depends on the company's ability to offer the pay listed on the job description, which can be determined by the size and the finanical strength of the company. Unfortunately, it is impossible to determine the size and financial strength from the job description alone. \n",
    "\n",
    "### Factors that distingush job category\n",
    "The model built using Naive Bayes to classify seniority of the position reflects the differing job scope at different levels of seniority. For instance, jobs under \"Senior\" class may involve management as the word is relatively more common in the \"Senior\" class than in other classes, while the word \"business\" is relative less common in the \"Junior\" class, indicating that people in Junior job positions may not be as involved in business as compared to those in more Senior positions. The model built using Random Forest reflects a lot of the relationship between job scope and responsibilities and the seniority class. \n",
    "\n",
    "However, what is not done here is to use job title as target variable and the job description as feature. Although it can be done using topic modelling, there are huge variations in the job titles, especially in between companies - where different companies give different job titles for the same job scope and responsibilty."
   ]
  },
  {
   "cell_type": "markdown",
   "metadata": {},
   "source": [
    "## Appendix: Web scrapping program listing\n",
    "This program listing details the python code that is used to scrape job information from the website and save them as a single dataset in one csv file."
   ]
  },
  {
   "cell_type": "raw",
   "metadata": {},
   "source": [
    "import os\n",
    "from __future__ import print_function\n",
    "from IPython.display import clear_output\n",
    "from selenium import webdriver\n",
    "import requests\n",
    "from bs4 import BeautifulSoup\n",
    "from time import sleep\n",
    "import pandas as pd\n",
    "import numpy as np\n",
    "import sys\n",
    "import string\n",
    "\n",
    "chromedriver = \"./chromedriver/chromedriver\"\n",
    "os.environ[\"webdriver.chrome.driver\"] = chromedriver\n",
    "\n",
    "# Extractor to extract links to job description from job post.\n",
    "class JobPostListExtractor(object):\n",
    "    def __init__(self, html):\n",
    "        self._dom = BeautifulSoup(html, 'lxml')\n",
    "        self._base_url = \"https://www.mycareersfuture.sg\"\n",
    "        \n",
    "    def extract_list(self):\n",
    "        list_result = []\n",
    "        nodes = self._dom.select('div.card.relative')\n",
    "        nodes_with_salary = [node for node in nodes if len(node.select('span.salary_range span.light-silver')) == 0]\n",
    "        for node in nodes_with_salary:\n",
    "            list_result.append({\n",
    "                \"link\": self._base_url + node.select(\"a.JobCard__card___22xP3\")[0]['href'],\n",
    "                \"location\": \"\" if len(node.select('p[name=\"location\"]')) == 0 else node.select('p[name=\"location\"]')[0].text\n",
    "            })\n",
    "        return list_result\n",
    "    \n",
    "    jobPostList_ = property(extract_list, None)\n",
    "\n",
    "# Extractor to extract information from job description.\n",
    "class JobDescriptionExtractor(object):\n",
    "    def __init__(self, html):\n",
    "        self._dom = BeautifulSoup(html, 'lxml')\n",
    "    \n",
    "    def extract(self):\n",
    "        salary_val = lambda s: s.replace('to', '').replace('$', '').replace(',', '')\n",
    "        salary =[int(salary_val(node.text)) for node in self._dom.select('span.salary_range span.dib')]\n",
    "        return {\n",
    "            \"title\": self._dom.select(\"h1#job_title\")[0].text,\n",
    "            \"company\": self._dom.select(\"p#company\")[0].text,\n",
    "            \"seniority\": \"\" if len(self._dom.select('p#seniority')) == 0 else self._dom.select('p#seniority')[0].text,\n",
    "            \"job_categories\": \"\" if len(self._dom.select('p#job-categories')) == 0 else self._dom.select('p#job-categories')[0].text,\n",
    "            \"min_salary\": salary[0],\n",
    "            \"max_salary\": salary[1],\n",
    "            \"job_description\": self._dom.select('div#job_description div#content')[0].text,\n",
    "            \"requirements\": self._dom.select('div#requirements div#content')[0].text\n",
    "        }\n",
    "\n",
    "# Define class that does the web scrapping from website \n",
    "class JobPostWebClient(object):\n",
    "    def __init__(self):\n",
    "        self._driver = webdriver.Chrome(executable_path=\"./chromedriver/chromedriver\")\n",
    "        self._base_url = \"https://www.mycareersfuture.sg/\"\n",
    "\n",
    "    def get_page_count(self, keyword):    \n",
    "        self._driver.get(self._base_url + \"search?search={searchkey}\".format(searchkey=keyword))\n",
    "        sleep(6)\n",
    "        domresultpage = BeautifulSoup(self._driver.page_source, 'lxml')\n",
    "        resultCount = domresultpage.select(\"span#search-results-message > div\")[0].text.split(' ')[0].replace(',', '')\n",
    "        return np.ceil(int(resultCount)/20.0).astype(int)\n",
    "\n",
    "    def scrape_job_links_list(self, keyword, page=0):\n",
    "        url = self._base_url + \"search?search={}&page={}\".format(keyword, page)\n",
    "        self._driver.get(url)\n",
    "        sleep(6)\n",
    "        html = self._driver.page_source\n",
    "        return JobPostListExtractor(html).jobPostList_\n",
    "        \n",
    "    def scrape_job_description(self, url):\n",
    "        try:\n",
    "            self._driver.get(url)\n",
    "            sleep(6)\n",
    "            return JobDescriptionExtractor(self._driver.page_source).extract()\n",
    "        except:\n",
    "            return {}\n",
    "        \n",
    "    def close(self):\n",
    "        self._driver.close()"
   ]
  },
  {
   "cell_type": "raw",
   "metadata": {},
   "source": [
    "# List the keywords that can be used to find the job postings.\n",
    "keywords = ['AI Engineer', 'Business Intelligence',\n",
    "               'Data Administrator', 'Data Analyst', 'Data Architect',\n",
    "              'Data Developer', 'Data Engineer', 'Data Manager',\n",
    "              'Data Scientist', 'Database Administrator', 'Machine Learning',\n",
    "              'Research Engineer', 'Research Scientist', 'Software Engineer']\n",
    "# Get list of job description links and save them as csv.\n",
    "client = JobPostWebClient()\n",
    "for keyword in keywords:\n",
    "    list_postings = []\n",
    "    print(\"Scrapping keyword: {}\".format(keyword), file=sys.stderr)\n",
    "    lastPage = client.get_page_count(keyword)\n",
    "    print(\"Number of pages: {}\".format(lastPage), file=sys.stderr)\n",
    "    for page in range(0, lastPage):\n",
    "        print(\"Scrapping page {}.\".format(page), file=sys.stderr)\n",
    "        list_postings += client.scrape_job_links_list(keyword, page)\n",
    "    # Save list of links in csv\n",
    "    df_links = pd.DataFrame(list_postings)\n",
    "    df_links.to_csv('./links_{}.csv'.format(keyword.replace(' ', '_')))\n",
    "    clear_output()\n",
    "client.close()"
   ]
  },
  {
   "cell_type": "raw",
   "metadata": {},
   "source": [
    "# List the keywords that can be used to find the job postings.\n",
    "jd_keywords = ['AI Engineer', 'Business Intelligence',\n",
    "               'Data Administrator', 'Data Analyst', 'Data Architect',\n",
    "              'Data Developer', 'Data Engineer', 'Data Manager',\n",
    "              'Data Scientist', 'Database Administrator', 'Machine Learning',\n",
    "              'Research Engineer', 'Research Scientist', 'Software Engineer']\n",
    "              \n",
    "# Get job description for each links to job description\n",
    "client = JobPostWebClient()\n",
    "for jdKeyword in jd_keywords:\n",
    "    df_links = pd.read_csv('./links_{}.csv'.format(jdKeyword.replace(\" \", \"_\")))\n",
    "    list_jobDescription = []\n",
    "    for (index, row) in df_links.iterrows():\n",
    "        clear_output()\n",
    "        print(\"Scrapping link {}: {}\".format(index, row['link']), file=sys.stderr)\n",
    "        jD = client.scrape_job_description(row['link'])\n",
    "        if len(jD.keys()) > 0:\n",
    "            list_jobDescription.append({\n",
    "                'keyword': jdKeyword,\n",
    "                'url': row['link'],\n",
    "                'title': jD['title'],\n",
    "                'company': jD['company'],\n",
    "                'seniority': jD['seniority'],\n",
    "                'job_categories': jD['job_categories'],\n",
    "                'responsibilities': jD['job_description'],\n",
    "                'requirements': jD['requirements'],\n",
    "                'min_salary': jD['min_salary'],\n",
    "                'max_salary': jD['max_salary']\n",
    "            })\n",
    "    clear_output()\n",
    "    df_jobDescription = pd.DataFrame(list_jobDescription)\n",
    "    df_jobDescription.to_csv('./jobs_{}.csv'.format(jdKeyword.replace(\" \", \"_\")), encoding='utf-8')\n",
    "client.close()"
   ]
  },
  {
   "cell_type": "raw",
   "metadata": {},
   "source": [
    "# Combine the csv files into one file.\n",
    "jd_csv_keywords = ['AI Engineer', 'Business Analyst', 'Business Intelligence',\n",
    "               'Data Administrator', 'Data Analyst', 'Data Architect',\n",
    "              'Data Developer', 'Data Engineer', 'Data Manager',\n",
    "              'Data Scientist', 'Database Administrator', 'Machine Learning',\n",
    "              'Research Engineer', 'Research Scientist', 'Software Engineer']\n",
    "jd_csv_files = ['./jobs_{}.csv'.format(keyword.replace(' ', '_')) for keyword in jd_csv_keywords]\n",
    "dfs_jobs = [pd.read_csv(csv_file) for csv_file in jd_csv_files]\n",
    "\n",
    "for df in dfs_jobs:\n",
    "    df.drop(columns=['Unnamed: 0'], inplace=True)\n",
    "\n",
    "df_combined.drop_duplicates(subset='url', inplace=True)\n",
    "df_combined.reset_index\n",
    "\n",
    "df_combined.to_csv('./jobs_set.csv', index=False)"
   ]
  }
 ],
 "metadata": {
  "kernelspec": {
   "display_name": "Python 2",
   "language": "python",
   "name": "python2"
  },
  "language_info": {
   "codemirror_mode": {
    "name": "ipython",
    "version": 2
   },
   "file_extension": ".py",
   "mimetype": "text/x-python",
   "name": "python",
   "nbconvert_exporter": "python",
   "pygments_lexer": "ipython2",
   "version": "2.7.14"
  }
 },
 "nbformat": 4,
 "nbformat_minor": 2
}
